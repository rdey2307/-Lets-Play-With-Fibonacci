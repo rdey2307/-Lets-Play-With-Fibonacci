{
 "cells": [
  {
   "cell_type": "code",
   "execution_count": 1,
   "id": "2c907f40",
   "metadata": {},
   "outputs": [
    {
     "name": "stdout",
     "output_type": "stream",
     "text": [
      "enter a number15\n",
      "0\n",
      "1\n",
      "1\n",
      "2\n",
      "3\n",
      "5\n",
      "8\n",
      "13\n",
      "21\n",
      "34\n",
      "55\n",
      "89\n",
      "144\n",
      "233\n",
      "377\n"
     ]
    }
   ],
   "source": [
    "num=int(input(\"enter a number\"))\n",
    "first_num=0\n",
    "second_num=1\n",
    "for n in range(0,num):\n",
    "    if n<=1:\n",
    "        value=n\n",
    "    else:\n",
    "        value=first_num+second_num\n",
    "        first_num=second_num\n",
    "        second_num=value\n",
    "    print(value)   "
   ]
  },
  {
   "cell_type": "code",
   "execution_count": null,
   "id": "58c0d70a",
   "metadata": {},
   "outputs": [],
   "source": []
  }
 ],
 "metadata": {
  "kernelspec": {
   "display_name": "Python 3 (ipykernel)",
   "language": "python",
   "name": "python3"
  },
  "language_info": {
   "codemirror_mode": {
    "name": "ipython",
    "version": 3
   },
   "file_extension": ".py",
   "mimetype": "text/x-python",
   "name": "python",
   "nbconvert_exporter": "python",
   "pygments_lexer": "ipython3",
   "version": "3.9.7"
  }
 },
 "nbformat": 4,
 "nbformat_minor": 5
}
